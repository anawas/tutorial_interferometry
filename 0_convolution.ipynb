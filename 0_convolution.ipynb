{
 "cells": [
  {
   "cell_type": "code",
   "execution_count": null,
   "id": "1d8461f9-2bcb-4273-bf5d-30d24677abda",
   "metadata": {},
   "outputs": [],
   "source": [
    "import numpy as np, itertools\n",
    "import tools21cm as t2c, numpy as np\n",
    "import matplotlib.pyplot as plt\n",
    "\n",
    "from tqdm import tqdm\n",
    "from ipywidgets import interact\n",
    "\n",
    "import astropy.units as u\n",
    "import astropy.constants as cst\n",
    "from astropy.cosmology import Planck18 as cosmo"
   ]
  },
  {
   "cell_type": "markdown",
   "id": "d7e1e5a5",
   "metadata": {},
   "source": [
    "## Mathematical Convolution\n",
    "In mathematics, particularly in the context of signal processing and linear algebra, given two functions $ f(t) $ and $ g(t) $, the convolution of $ f $ and $ g $, denoted $ f \\star g $, is defined by the integral:\n",
    "\n",
    "$$ (f \\star g)(\\tau) = \\int_{-\\infty}^\\infty{f(t)~g^*(t-\\tau)~dt}= \\int_{-\\infty}^{\\infty} f(t) \\cdot g(\\tau - t) \\, dt $$\n",
    "\n",
    "where $^*$ denotes the complex conjugate. For convolution, we omit the conjugate, using $g(\\tau - t)$ in place of $g^*(t-\\tau)$.\n",
    "\n",
    "This integral represents the area under the curve of the product of $ f $ and $ g $, where $ g $ is flipped and shifted by $ \\tau $ and then aligned with $ f $, with the integration performed over all possible values of $ t $. It allows for the analysis and manipulation of signals and systems by expressing the output of the convolution as a combination of the input signals."
   ]
  },
  {
   "cell_type": "code",
   "execution_count": null,
   "id": "f4e691d9",
   "metadata": {},
   "outputs": [],
   "source": [
    "# define two step function\n",
    "def f(t):\n",
    "    return np.where(np.abs(t) < 0.5, 1, 0)\n",
    "\n",
    "def g(t):\n",
    "    return np.where(np.abs(t) < 1, 1, 0)\n",
    "\n",
    "ts = np.linspace(-5, 5, 1024)\n",
    "\n",
    "def plot_convolution(offset):\n",
    "    fig, axs = plt.subplots(figsize=(15,4), ncols=2, nrows=1)\n",
    "    fig.subplots_adjust(hspace=0.5)\n",
    "    \n",
    "    axs[0].plot(ts, f(ts), 'b-', label='f')\n",
    "    axs[0].plot(ts, g(ts - offset), 'r-', label='g')\n",
    "    axs[0].fill_between(ts, f(ts) * g(ts - offset), 'k-', label='$f(t) g(t-\\\\tau)$')\n",
    "    axs[1].plot(ts, np.convolve(f(ts), g(ts), mode='same'), 'k-', label='$f\\\\star g(\\\\tau)$')\n",
    "    axs[1].plot([offset], np.sum(f(ts) * g(ts - offset)), 'kh', label='$\\\\int{f(t) g(t-\\\\tau) dt}$')\n",
    "    \n",
    "    axs[0].set_xlabel('Time [s]'), axs[0].set_ylabel('Voltage')\n",
    "    axs[1].set_xlabel('Delay [s]'), axs[1].set_ylabel('Voltage Squared')\n",
    "    for ax in axs: ax.legend(loc=1)\n",
    "        \n",
    "interact(plot_convolution, offset=(-4, 4, 0.1))"
   ]
  },
  {
   "cell_type": "markdown",
   "id": "337cbe6d",
   "metadata": {},
   "source": [
    "## The Convolution Theorem \n",
    "It is a fundamental result in signal processing that relates the convolution operation in the time (or spatial) domain to multiplication in the <b>Fourier transform</b> (or spatial frequency) domain. \n",
    "\n",
    "The Fourier transform (left) and the corresponding inverse (right) transform is defined as :\n",
    "$$\\tilde f(\\omega) = \\int_{-\\infty}^\\infty{f(t)\\,e^{-i\\omega t}\\, dt}\\,\\,\\,\\,\\,,\\,\\,\\,\\,\\,\\,\\,f(t) = \\frac{1}{2\\pi}\\int_{-\\infty}^\\infty{\\tilde f(\\omega)~e^{i\\omega t}~d\\omega}.\n",
    "$$\n",
    "\n",
    "The theorem states that the Fourier transform of the convolution of two functions is equal to the pointwise product of their Fourier transforms.\n",
    "\n",
    "$$ \\mathcal{F}[f \\star g] = \\tilde f (\\omega) \\cdot \\tilde g(\\omega) $$\n",
    "\n",
    "where $ f(t) $ and $ g(t) $ are two function and $ \\tilde f(\\omega) $ and $ \\tilde g(\\omega) $ are their Fourier transforms, respectively. Here $ \\mathcal{F} $ denote the Fourier operation.\n",
    "\n",
    "In other words, <b>convolving two functions</b> in the <b>time domain</b> is equivalent to <b>multiplying their Fourier transforms</b> in the <b>frequency domain</b>. This theorem is particularly useful in observational radio astronomy as it provide the basis of the radio inteferometry telescope."
   ]
  },
  {
   "cell_type": "code",
   "execution_count": null,
   "id": "27065524",
   "metadata": {},
   "outputs": [],
   "source": [
    "# define time domain\n",
    "ts = np.linspace(-2, 2, 1024)\n",
    "\n",
    "# fourier transform to get the frequncy domain\n",
    "fqs = np.fft.fftfreq(ts.size, np.diff(ts)[0])\n",
    "\n",
    "# define two functions f and g\n",
    "def gaussian(t, sigma):\n",
    "    return np.exp(-t**2 / (2*sigma**2))\n",
    "\n",
    "f = gaussian(ts, 0.2)\n",
    "g = gaussian(ts, 0.1)\n",
    "\n",
    "# calculate convolution (time domain)\n",
    "fg1 = np.convolve(f, g, mode='same')\n",
    "\n",
    "# calculate fourier transform of f and g\n",
    "fft_f = np.fft.fft(f)\n",
    "fft_g = np.fft.fft(g)\n",
    "\n",
    "# multiply the two fourier transform and inverse fourier transform\n",
    "fg2 = np.fft.ifft(fft_f * fft_g)\n",
    "\n",
    "fig, axs = plt.subplots(figsize=(18,5), ncols=3, nrows=1)\n",
    "axs[0].set_title('Time domain')\n",
    "axs[0].plot(ts, f, label='f')\n",
    "axs[0].plot(ts, g, label='g')\n",
    "axs[0].set_xlabel('time [s]')\n",
    "axs[0].legend(loc=1)\n",
    "\n",
    "axs[1].set_title('Frequency domain')\n",
    "axs[1].semilogy(fqs, np.abs(fft_f**2), label=r'$\\tilde{f}$')\n",
    "axs[1].semilogy(fqs, np.abs(fft_g**2), label=r'$\\tilde{g}$')\n",
    "axs[1].set_xlabel('frequency [Hz]')\n",
    "axs[1].legend(loc=1)\n",
    "\n",
    "axs[2].set_title('Convolution')\n",
    "axs[2].semilogy(ts, fg1, label=r'$f \\star g$')\n",
    "axs[2].semilogy(ts, np.fft.fftshift(fg2), label=r'$\\mathcal{F}^{-1}\\,[F(\\omega) \\cdot G(\\omega)]$')\n",
    "axs[2].set_xlabel('time [s]')\n",
    "axs[2].legend(loc=1)"
   ]
  },
  {
   "cell_type": "markdown",
   "id": "7bbe63f2",
   "metadata": {},
   "source": [
    "__Remark :__ in python <i>np.fft</i> puts the zero-point of an array at the corners when compared to the <i>np.convolve</i>. We shift it over using <i>np.fft.fftshift</i>.\n",
    "\n",
    "Also, <i>np.fft</i> library assumes finite arrays have periodic boundary conditions. As a result, the <i>np.fft</i> has small differences at the the edges of our time domain. This effect can be reduced by appling frequency filters (e.g. Blackman-Harrison window, etc..)."
   ]
  },
  {
   "cell_type": "code",
   "execution_count": null,
   "id": "e3b4d714",
   "metadata": {},
   "outputs": [],
   "source": []
  }
 ],
 "metadata": {
  "kernelspec": {
   "display_name": "venv",
   "language": "python",
   "name": "python3"
  },
  "language_info": {
   "codemirror_mode": {
    "name": "ipython",
    "version": 3
   },
   "file_extension": ".py",
   "mimetype": "text/x-python",
   "name": "python",
   "nbconvert_exporter": "python",
   "pygments_lexer": "ipython3",
   "version": "3.12.4"
  }
 },
 "nbformat": 4,
 "nbformat_minor": 5
}
